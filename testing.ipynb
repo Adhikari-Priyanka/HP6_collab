{
 "cells": [
  {
   "cell_type": "code",
   "execution_count": null,
   "metadata": {},
   "outputs": [],
   "source": [
    "import preprocess\n",
    "import utils\n",
    "\n",
    "#preprocess.audio_process(td = 'F:\\\\github\\\\HP6_collab\\\\audio\\\\raw\\\\hp\\\\', sf=4000)\n",
    "#utils.move_to_folder(source='F:\\\\github\\\\HP6_collab\\\\audio\\\\raw\\\\hp\\\\filtered\\\\', target='F:\\\\github\\\\HP6_collab\\\\audio\\\\filtered\\\\')\n",
    "\n",
    "#preprocess.few_second_clips(td= 'F:\\\\github\\\\HP6_collab\\\\audio\\\\raw\\\\hp\\\\filtered\\\\', clip = 30)\n",
    "#preprocess.few_second_clips(td= 'F:\\\\github\\\\HP6_collab\\\\audio\\\\raw\\\\noaa\\\\', clip = 30)\n",
    "#utils.filename_to_csv(td= 'F:\\\\github\\\\HP6_collab\\\\audio\\\\filtered\\\\30s_clip\\\\')\n"
   ]
  },
  {
   "cell_type": "code",
   "execution_count": null,
   "metadata": {},
   "outputs": [],
   "source": [
    "import preprocess\n",
    "import utils\n",
    "\n",
    "preprocess.audio_process(td='F:\\\\github\\\\HP6_collab\\\\audio\\\\explanation\\\\', sf=4000)\n",
    "preprocess.spec_process(td='F:\\\\github\\\\HP6_collab\\\\audio\\\\explanation\\\\filtered\\\\', mid=70)\n"
   ]
  }
 ],
 "metadata": {
  "kernelspec": {
   "display_name": "Python 3",
   "language": "python",
   "name": "python3"
  },
  "language_info": {
   "codemirror_mode": {
    "name": "ipython",
    "version": 3
   },
   "file_extension": ".py",
   "mimetype": "text/x-python",
   "name": "python",
   "nbconvert_exporter": "python",
   "pygments_lexer": "ipython3",
   "version": "3.12.3"
  }
 },
 "nbformat": 4,
 "nbformat_minor": 2
}
