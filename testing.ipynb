{
 "cells": [
  {
   "cell_type": "code",
   "execution_count": 1,
   "metadata": {},
   "outputs": [
    {
     "name": "stdout",
     "output_type": "stream",
     "text": [
      "Filtered audio for F:\\github\\HP6_collab\\audio\\raw\\hp\\\n",
      ".wav files moved from F:\\github\\HP6_collab\\audio\\raw\\hp\\filtered\\ to F:\\github\\HP6_collab\\audio\\filtered\\\n",
      "Audio: 240512_0069_f clipped\n",
      "Audio: 240512_0070_f clipped\n",
      "Audio: 240514_0093_f clipped\n",
      "Filename csv created for F:\\github\\HP6_collab\\audio\\filtered\\30s_clip\\\n"
     ]
    }
   ],
   "source": [
    "import audio_preprocess\n",
    "import utils\n",
    "\n",
    "audio_preprocess.filter_audio(td = 'F:\\\\github\\\\HP6_collab\\\\audio\\\\raw\\\\hp\\\\', cutoff=1000)\n",
    "utils.move_to_folder(source='F:\\\\github\\\\HP6_collab\\\\audio\\\\raw\\\\hp\\\\filtered\\\\', target='F:\\\\github\\\\HP6_collab\\\\audio\\\\filtered\\\\')\n",
    "\n",
    "audio_preprocess.few_second_clips(td= 'F:\\\\github\\\\HP6_collab\\\\audio\\\\filtered\\\\', clip = 30)\n",
    "utils.filename_to_csv(td= 'F:\\\\github\\\\HP6_collab\\\\audio\\\\filtered\\\\30s_clip\\\\')\n"
   ]
  },
  {
   "cell_type": "code",
   "execution_count": 2,
   "metadata": {},
   "outputs": [],
   "source": [
    "#import utils\n",
    "#utils.filename_to_csv(td= 'F:\\\\github\\\\HP6_collab\\\\audio\\\\30s_clip\\\\')\n",
    "#utils.move_to_folder(source='F:\\\\github\\\\HP6_collab\\\\audio\\\\', target='F:\\\\github\\\\HP6_collab\\\\audio\\\\raw\\\\')\n",
    "#utils.move_to_label(source='F:\\\\github\\\\HP6_collab\\\\audio\\\\raw\\\\',target='F:\\\\github\\\\HP6_collab\\\\audio\\\\raw\\\\',df = 'F:\\\\github\\\\HP6_collab\\\\audio\\\\file_names.csv')\n",
    "#utils.combin(td ='F:\\\\github\\\\HP6_collab\\\\audio\\\\raw\\\\noaa\\\\')\n"
   ]
  },
  {
   "cell_type": "code",
   "execution_count": 3,
   "metadata": {},
   "outputs": [
    {
     "data": {
      "text/plain": [
       "\"import pandas as pd\\nimport librosa\\nimport pandas as pd\\nimport numpy as np\\nimport os\\nimport soundfile as sf\\nfrom pydub import AudioSegment\\n\\ntd = 'F:\\\\github\\\\HP6_collab\\\\audio\\\\'\\nname = '240512_0069'\\nclip = 30\\nfilepath = 'F:\\\\github\\\\HP6_collab\\\\audio\\\\'\\n\\n# Load audio file\\naud, sr = librosa.load(f'{td}{name}.wav')\\n# Find duration of the audio\\ndur = int(len(aud)/sr)\\nprint(f'Sampling rate is {sr/1000}kHz')\\nprint(f'Duration is {dur}s')\\nprint(f'No of files of duration {clip}s created will be {dur/30}')\""
      ]
     },
     "execution_count": 3,
     "metadata": {},
     "output_type": "execute_result"
    }
   ],
   "source": [
    "'''import pandas as pd\n",
    "import librosa\n",
    "import pandas as pd\n",
    "import numpy as np\n",
    "import os\n",
    "import soundfile as sf\n",
    "from pydub import AudioSegment\n",
    "\n",
    "td = 'F:\\\\github\\\\HP6_collab\\\\audio\\\\'\n",
    "name = '240512_0069'\n",
    "clip = 30\n",
    "filepath = 'F:\\\\github\\\\HP6_collab\\\\audio\\\\'\n",
    "\n",
    "# Load audio file\n",
    "aud, sr = librosa.load(f'{td}{name}.wav')\n",
    "# Find duration of the audio\n",
    "dur = int(len(aud)/sr)\n",
    "print(f'Sampling rate is {sr/1000}kHz')\n",
    "print(f'Duration is {dur}s')\n",
    "print(f'No of files of duration {clip}s created will be {dur/30}')'''"
   ]
  }
 ],
 "metadata": {
  "kernelspec": {
   "display_name": "Python 3",
   "language": "python",
   "name": "python3"
  },
  "language_info": {
   "codemirror_mode": {
    "name": "ipython",
    "version": 3
   },
   "file_extension": ".py",
   "mimetype": "text/x-python",
   "name": "python",
   "nbconvert_exporter": "python",
   "pygments_lexer": "ipython3",
   "version": "3.12.3"
  }
 },
 "nbformat": 4,
 "nbformat_minor": 2
}
