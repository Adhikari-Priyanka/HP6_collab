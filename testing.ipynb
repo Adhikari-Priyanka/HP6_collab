{
 "cells": [
  {
   "cell_type": "code",
   "execution_count": null,
   "metadata": {},
   "outputs": [],
   "source": [
    "import preprocess\n",
    "import utils\n",
    "\n",
    "# Clip raw 1hr 40min files from HP6 as per clip times in calls.csv\n",
    "preprocess.clip_signal_and_noise(td='F:\\\\WII_Whale\\\\HP_raw_audio\\\\', csv_filename='calls.csv')\n",
    "\n",
    "# Further clip into 2s files\n",
    "preprocess.few_second_clips(td='F:\\\\WII_Whale\\\\HP_raw_audio\\\\clipped\\\\', clip=2)\n",
    "\n",
    "# Process the 2s files\n",
    "preprocess.audio_process(td='F:\\\\WII_Whale\\\\HP_raw_audio\\\\clipped\\\\2s_clip\\\\' , sf=5000)\n",
    "\n",
    "# Process the pre_noise clips\n",
    "preprocess.audio_process(td='F:\\\\WII_Whale\\\\HP_raw_audio\\\\clipped\\\\pre_noise\\\\' , sf=5000)\n",
    "\n",
    "# Process the suf_noise clips\n",
    "preprocess.audio_process(td='F:\\\\WII_Whale\\\\HP_raw_audio\\\\clipped\\\\suf_noise\\\\' , sf=5000)\n",
    "\n",
    "# Clip NOAA audio\n",
    "## preprocess.few_second_clips(td='F:\\\\WII_Whale\\\\NOAA\\\\')\n",
    "\n",
    "# Process NOAA audio\n",
    "preprocess.audio_process(td='F:\\\\WII_Whale\\\\NOAA\\\\2s_clip\\\\', sf=5000)\n",
    "\n"
   ]
  },
  {
   "cell_type": "code",
   "execution_count": 2,
   "metadata": {},
   "outputs": [
    {
     "name": "stdout",
     "output_type": "stream",
     "text": [
      "Created specs for audio in F:\\WII_Whale\\NOAA\\2s_clip\\filtered\\\n",
      "Created specs for audio in F:\\WII_Whale\\HP_raw_audio\\clipped\\pre_noise\\filtered\\\n",
      "Created specs for audio in F:\\WII_Whale\\HP_raw_audio\\clipped\\suf_noise\\filtered\\\n",
      "Created specs for audio in F:\\WII_Whale\\HP_raw_audio\\clipped\\2s_clip\\filtered\\\n"
     ]
    }
   ],
   "source": [
    "# Make spectrograms\n",
    "# For filtered NOAA audio\n",
    "preprocess.spec_process(td='F:\\\\WII_Whale\\\\NOAA\\\\2s_clip\\\\filtered\\\\',mid=70)\n",
    "\n",
    "# For filtered pre-noise\n",
    "preprocess.spec_process(td='F:\\\\WII_Whale\\\\HP_raw_audio\\\\clipped\\\\pre_noise\\\\filtered\\\\',mid=70)\n",
    "\n",
    "# For filtered suf-noise\n",
    "preprocess.spec_process(td='F:\\\\WII_Whale\\\\HP_raw_audio\\\\clipped\\\\suf_noise\\\\filtered\\\\',mid=70)\n",
    "\n",
    "# For filtered hp clips\n",
    "preprocess.spec_process(td='F:\\\\WII_Whale\\\\HP_raw_audio\\\\clipped\\\\2s_clip\\\\filtered\\\\', mid=70)\n"
   ]
  },
  {
   "cell_type": "code",
   "execution_count": null,
   "metadata": {},
   "outputs": [
    {
     "name": "stdout",
     "output_type": "stream",
     "text": [
      ".png files moved from F:\\WII_Whale\\HP_raw_audio\\clipped\\2s_clip\\filtered\\specs\\ to F:\\WII_Whale\\efficientnet\\dataset_ENB03\\hp\\\n",
      ".png files moved from F:\\WII_Whale\\HP_raw_audio\\clipped\\pre_noise\\filtered\\specs\\ to F:\\WII_Whale\\efficientnet\\dataset_ENB03\\hp\\\n",
      ".png files moved from F:\\WII_Whale\\HP_raw_audio\\clipped\\suf_noise\\filtered\\specs\\ to F:\\WII_Whale\\efficientnet\\dataset_ENB03\\hp\\\n"
     ]
    }
   ],
   "source": [
    "utils.move_to_folder(source='F:\\\\WII_Whale\\\\NOAA\\\\2s_clip\\\\filtered\\\\specs\\\\humpbackwhale_annotated\\\\',\n",
    "                     target='F:\\\\WII_Whale\\\\efficientnet\\\\dataset_ENB03\\\\noaa\\\\',\n",
    "                     format='.png')\n",
    "\n",
    "utils.move_to_folder(source='F:\\\\WII_Whale\\\\HP_raw_audio\\\\clipped\\\\2s_clip\\\\filtered\\\\specs\\\\',\n",
    "                     target='F:\\\\WII_Whale\\\\efficientnet\\\\dataset_ENB03\\\\hp\\\\',\n",
    "                     format='.png')\n",
    "\n",
    "utils.move_to_folder(source='F:\\\\WII_Whale\\\\HP_raw_audio\\\\clipped\\\\pre_noise\\\\filtered\\\\specs\\\\',\n",
    "                     target='F:\\\\WII_Whale\\\\efficientnet\\\\dataset_ENB03\\\\hp\\\\',\n",
    "                     format='.png')\n",
    "\n",
    "utils.move_to_folder(source='F:\\\\WII_Whale\\\\HP_raw_audio\\\\clipped\\\\suf_noise\\\\filtered\\\\specs\\\\',\n",
    "                     target='F:\\\\WII_Whale\\\\efficientnet\\\\dataset_ENB03\\\\hp\\\\',\n",
    "                     format='.png')"
   ]
  },
  {
   "cell_type": "code",
   "execution_count": null,
   "metadata": {},
   "outputs": [
    {
     "name": "stdout",
     "output_type": "stream",
     "text": [
      "Created specs for audio in F:\\WII_Whale\\HP6\\0069_30min_clip\\filtered\\2s_clip\\\n"
     ]
    }
   ],
   "source": [
    "import preprocess\n",
    "import utils\n",
    "\n",
    "# Clip 0069 file into 30 minute chunks (annotated first 30 mins of this 14.11.24) \n",
    "#preprocess.few_second_clips(td='F:\\\\WII_Whale\\\\HP6\\\\0069\\\\', clip=1800)\n",
    "\n",
    "# Process clips\n",
    "preprocess.audio_process(td='F:\\\\WII_Whale\\\\HP6\\\\0069_30min_clip\\\\', sf=5000)\n",
    "\n",
    "# Clip into required 2s files\n",
    "preprocess.few_second_clips(td='F:\\\\WII_Whale\\\\HP6\\\\0069_30min_clip\\\\filtered\\\\', clip=2)\n",
    "\n",
    "# For processed clips make spectrograms\n",
    "preprocess.spec_process(td='F:\\\\WII_Whale\\\\HP6\\\\0069_30min_clip\\\\filtered\\\\2s_clip\\\\', mid=70)\n",
    "\n",
    "# Get file names into a csv\n",
    "#utils.filename_to_csv(td='F:\\\\WII_Whale\\\\HP6\\\\0069_30min_clip\\\\2s_clip\\\\filtered\\\\specs\\\\', format='.png')\n",
    "\n",
    "## Moved annotated to separate folder\n",
    "utils.move_to_folder(source='F:\\\\WII_Whale\\\\HP6\\\\0069_30min_clip\\\\filtered\\\\2s_clip\\\\specs\\\\annotated\\\\',\n",
    "                     target='F:\\\\WII_Whale\\\\efficientnet\\\\dataset_ENB03\\\\No\\\\', # All files are No\n",
    "                     format='.png')"
   ]
  },
  {
   "cell_type": "code",
   "execution_count": 13,
   "metadata": {},
   "outputs": [
    {
     "name": "stdout",
     "output_type": "stream",
     "text": [
      ".png files moved from F:\\WII_Whale\\HP6\\0069_30min_clip\\filtered\\2s_clip\\specs\\annotated\\ to F:\\WII_Whale\\efficientnet\\dataset_ENB03\\hp_0069\\\n"
     ]
    }
   ],
   "source": [
    "utils.move_to_folder(source='F:\\\\WII_Whale\\\\HP6\\\\0069_30min_clip\\\\filtered\\\\2s_clip\\\\specs\\\\annotated\\\\',\n",
    "                     target='F:\\\\WII_Whale\\\\efficientnet\\\\dataset_ENB03\\\\hp_0069\\\\', # All files are No\n",
    "                     format='.png')"
   ]
  },
  {
   "cell_type": "code",
   "execution_count": null,
   "metadata": {},
   "outputs": [],
   "source": [
    "# Get file names into a csv\n",
    "utils.filename_to_csv(td='F:\\\\WII_Whale\\\\efficientnet\\\\dataset_ENB03\\\\hp\\\\', format='.png')\n",
    "utils.filename_to_csv(td='F:\\\\WII_Whale\\\\efficientnet\\\\dataset_ENB03\\\\noaa\\\\', format='.png')\n"
   ]
  },
  {
   "cell_type": "code",
   "execution_count": 9,
   "metadata": {},
   "outputs": [
    {
     "name": "stdout",
     "output_type": "stream",
     "text": [
      "Folder created for label Yes\n",
      "Folder created for label No\n",
      ".png files moved from F:\\WII_Whale\\efficientnet\\dataset_ENB03\\hp\\ to F:\\WII_Whale\\efficientnet\\dataset_ENB03\\\n",
      "Folder created for label Yes\n",
      "Folder created for label No\n",
      ".png files moved from F:\\WII_Whale\\efficientnet\\dataset_ENB03\\noaa\\ to F:\\WII_Whale\\efficientnet\\dataset_ENB03\\\n"
     ]
    }
   ],
   "source": [
    "utils.move_to_label(source = 'F:\\\\WII_Whale\\\\efficientnet\\\\dataset_ENB03\\\\hp\\\\', \n",
    "                    target='F:\\\\WII_Whale\\\\efficientnet\\\\dataset_ENB03\\\\',\n",
    "                    df='F:\\\\WII_Whale\\\\efficientnet\\\\dataset_ENB03\\\\annotation_ENB0_test3.csv',\n",
    "                    format= '.png')\n",
    "utils.move_to_label(source = 'F:\\\\WII_Whale\\\\efficientnet\\\\dataset_ENB03\\\\noaa\\\\', \n",
    "                    target='F:\\\\WII_Whale\\\\efficientnet\\\\dataset_ENB03\\\\',\n",
    "                    df='F:\\\\WII_Whale\\\\efficientnet\\\\dataset_ENB03\\\\annotation_ENB0_test3.csv',\n",
    "                    format= '.png')\n",
    "\n"
   ]
  }
 ],
 "metadata": {
  "kernelspec": {
   "display_name": "Python 3",
   "language": "python",
   "name": "python3"
  },
  "language_info": {
   "codemirror_mode": {
    "name": "ipython",
    "version": 3
   },
   "file_extension": ".py",
   "mimetype": "text/x-python",
   "name": "python",
   "nbconvert_exporter": "python",
   "pygments_lexer": "ipython3",
   "version": "3.12.3"
  }
 },
 "nbformat": 4,
 "nbformat_minor": 2
}
