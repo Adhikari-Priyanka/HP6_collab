{
 "cells": [
  {
   "cell_type": "code",
   "execution_count": 15,
   "metadata": {},
   "outputs": [],
   "source": [
    "import preprocess\n",
    "import utils"
   ]
  },
  {
   "cell_type": "code",
   "execution_count": null,
   "metadata": {},
   "outputs": [
    {
     "name": "stdout",
     "output_type": "stream",
     "text": [
      "Filtered audio for F:\\WII_Whale\\NOAA\\\n",
      "Audio clipped in F:\\WII_Whale\\NOAA\\filtered\\\n"
     ]
    }
   ],
   "source": [
    "noaa_wd = 'F:\\\\WII_Whale\\\\NOAA\\\\'\n",
    "\n",
    "preprocess.audio_process(td=noaa_wd, sf=5000)\n",
    "preprocess.few_second_clips(td=noaa_wd+'filtered\\\\', clip=2)\n",
    "preprocess.spec_process(td=noaa_wd+'filtered\\\\2s_clip\\\\', mid=70)\n",
    "utils.filename_to_csv(td=noaa_wd+'filtered\\\\2s_clip\\\\specs\\\\', format='.png')"
   ]
  },
  {
   "cell_type": "code",
   "execution_count": 9,
   "metadata": {},
   "outputs": [
    {
     "name": "stdout",
     "output_type": "stream",
     "text": [
      "Filtered audio for F:\\WII_Whale\\HP6\\0069_30min_clip_annotated_noise\\\n",
      "Audio clipped in F:\\WII_Whale\\HP6\\0069_30min_clip_annotated_noise\\filtered\\\n",
      "Created specs for audio in F:\\WII_Whale\\HP6\\0069_30min_clip_annotated_noise\\filtered\\2s_clip\\\n",
      "Filename csv created for F:\\WII_Whale\\HP6\\0069_30min_clip_annotated_noise\\filtered\\2s_clip\\specs\\\n"
     ]
    }
   ],
   "source": [
    "hp_0069_wd = 'F:\\\\WII_Whale\\\\HP6\\\\0069_30min_clip_annotated_noise\\\\'\n",
    "\n",
    "preprocess.audio_process(td=hp_0069_wd,sf=5000)\n",
    "preprocess.few_second_clips(td=hp_0069_wd+'filtered\\\\', clip=2)\n",
    "preprocess.spec_process(td=hp_0069_wd+'filtered\\\\2s_clip\\\\', mid=70)\n",
    "utils.filename_to_csv(td=hp_0069_wd+'filtered\\\\2s_clip\\\\specs\\\\', format='.png')"
   ]
  },
  {
   "cell_type": "code",
   "execution_count": 14,
   "metadata": {},
   "outputs": [
    {
     "name": "stdout",
     "output_type": "stream",
     "text": [
      "Filtered audio for F:\\WII_Whale\\HP6\\0093_30min_clip_annotated_noise\\\n",
      "Audio clipped in F:\\WII_Whale\\HP6\\0093_30min_clip_annotated_noise\\filtered\\\n",
      "Created specs for audio in F:\\WII_Whale\\HP6\\0093_30min_clip_annotated_noise\\filtered\\2s_clip\\\n",
      "Filename csv created for F:\\WII_Whale\\HP6\\0093_30min_clip_annotated_noise\\filtered\\2s_clip\\specs\\\n"
     ]
    }
   ],
   "source": [
    "hp_0093_wd = 'F:\\\\WII_Whale\\\\HP6\\\\0093_30min_clip_annotated_noise\\\\'\n",
    "\n",
    "preprocess.audio_process(td=hp_0093_wd,sf=5000)\n",
    "preprocess.few_second_clips(td=hp_0093_wd+'filtered\\\\', clip=2)\n",
    "preprocess.spec_process(td=hp_0093_wd+'filtered\\\\2s_clip\\\\', mid=70)\n",
    "utils.filename_to_csv(td=hp_0093_wd+'filtered\\\\2s_clip\\\\specs\\\\', format='.png')"
   ]
  },
  {
   "cell_type": "code",
   "execution_count": 19,
   "metadata": {},
   "outputs": [
    {
     "name": "stdout",
     "output_type": "stream",
     "text": [
      "Created specs for audio in F:\\github\\HP6_collab\\audio\\explanation\\2s_clip\\\n",
      "Filtered audio for F:\\github\\HP6_collab\\audio\\explanation\\2s_clip\\\n",
      "Created specs for audio in F:\\github\\HP6_collab\\audio\\explanation\\2s_clip\\filtered\\\n"
     ]
    }
   ],
   "source": [
    "preprocess.spec_process(td='F:\\\\github\\\\HP6_collab\\\\audio\\\\explanation\\\\2s_clip\\\\', mid=50)\n",
    "preprocess.audio_process(td='F:\\\\github\\\\HP6_collab\\\\audio\\\\explanation\\\\2s_clip\\\\')\n",
    "preprocess.spec_process(td='F:\\\\github\\\\HP6_collab\\\\audio\\\\explanation\\\\2s_clip\\\\filtered\\\\', mid=70)\n"
   ]
  }
 ],
 "metadata": {
  "kernelspec": {
   "display_name": "Python 3",
   "language": "python",
   "name": "python3"
  },
  "language_info": {
   "codemirror_mode": {
    "name": "ipython",
    "version": 3
   },
   "file_extension": ".py",
   "mimetype": "text/x-python",
   "name": "python",
   "nbconvert_exporter": "python",
   "pygments_lexer": "ipython3",
   "version": "3.12.3"
  }
 },
 "nbformat": 4,
 "nbformat_minor": 2
}
