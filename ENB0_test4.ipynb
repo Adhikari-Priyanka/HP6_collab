{
 "cells": [
  {
   "cell_type": "code",
   "execution_count": 1,
   "metadata": {},
   "outputs": [],
   "source": [
    "import preprocess\n",
    "import utils"
   ]
  },
  {
   "cell_type": "code",
   "execution_count": 4,
   "metadata": {},
   "outputs": [
    {
     "name": "stdout",
     "output_type": "stream",
     "text": [
      "Created specs for audio in F:\\WII_Whale\\NOAA\\filtered\\2s_clip\\\n",
      "Filename csv created for F:\\WII_Whale\\NOAA\\filtered\\2s_clip\\specs\\\n"
     ]
    }
   ],
   "source": [
    "noaa_wd = 'F:\\\\WII_Whale\\\\NOAA\\\\'\n",
    "\n",
    "#preprocess.audio_process(td=noaa_wd, sf=5000)\n",
    "#preprocess.few_second_clips(td=noaa_wd+'filtered\\\\', clip=2)\n",
    "preprocess.spec_process(td=noaa_wd+'filtered\\\\2s_clip\\\\', mid=70)\n",
    "utils.filename_to_csv(td=noaa_wd+'filtered\\\\2s_clip\\\\specs\\\\', format='.png')"
   ]
  },
  {
   "cell_type": "code",
   "execution_count": 9,
   "metadata": {},
   "outputs": [
    {
     "name": "stdout",
     "output_type": "stream",
     "text": [
      "Filtered audio for F:\\WII_Whale\\HP6\\0069_30min_clip_annotated_noise\\\n",
      "Audio clipped in F:\\WII_Whale\\HP6\\0069_30min_clip_annotated_noise\\filtered\\\n",
      "Created specs for audio in F:\\WII_Whale\\HP6\\0069_30min_clip_annotated_noise\\filtered\\2s_clip\\\n",
      "Filename csv created for F:\\WII_Whale\\HP6\\0069_30min_clip_annotated_noise\\filtered\\2s_clip\\specs\\\n"
     ]
    }
   ],
   "source": [
    "hp_0069_wd = 'F:\\\\WII_Whale\\\\HP6\\\\0069_30min_clip_annotated_noise\\\\'\n",
    "\n",
    "preprocess.audio_process(td=hp_0069_wd,sf=5000)\n",
    "preprocess.few_second_clips(td=hp_0069_wd+'filtered\\\\', clip=2)\n",
    "preprocess.spec_process(td=hp_0069_wd+'filtered\\\\2s_clip\\\\', mid=70)\n",
    "utils.filename_to_csv(td=hp_0069_wd+'filtered\\\\2s_clip\\\\specs\\\\', format='.png')"
   ]
  },
  {
   "cell_type": "code",
   "execution_count": 14,
   "metadata": {},
   "outputs": [
    {
     "name": "stdout",
     "output_type": "stream",
     "text": [
      "Filtered audio for F:\\WII_Whale\\HP6\\0093_30min_clip_annotated_noise\\\n",
      "Audio clipped in F:\\WII_Whale\\HP6\\0093_30min_clip_annotated_noise\\filtered\\\n",
      "Created specs for audio in F:\\WII_Whale\\HP6\\0093_30min_clip_annotated_noise\\filtered\\2s_clip\\\n",
      "Filename csv created for F:\\WII_Whale\\HP6\\0093_30min_clip_annotated_noise\\filtered\\2s_clip\\specs\\\n"
     ]
    }
   ],
   "source": [
    "hp_0093_wd = 'F:\\\\WII_Whale\\\\HP6\\\\0093_30min_clip_annotated_noise\\\\'\n",
    "\n",
    "preprocess.audio_process(td=hp_0093_wd,sf=5000)\n",
    "preprocess.few_second_clips(td=hp_0093_wd+'filtered\\\\', clip=2)\n",
    "preprocess.spec_process(td=hp_0093_wd+'filtered\\\\2s_clip\\\\', mid=70)\n",
    "utils.filename_to_csv(td=hp_0093_wd+'filtered\\\\2s_clip\\\\specs\\\\', format='.png')"
   ]
  },
  {
   "cell_type": "code",
   "execution_count": 3,
   "metadata": {},
   "outputs": [
    {
     "name": "stdout",
     "output_type": "stream",
     "text": [
      "Filtered audio for F:\\WII_Whale\\HP_raw_audio\\clipped\\\n",
      "Audio clipped in F:\\WII_Whale\\HP_raw_audio\\clipped\\filtered\\\n",
      "Created specs for audio in F:\\WII_Whale\\HP_raw_audio\\clipped\\filtered\\2s_clip\\\n",
      "Filename csv created for F:\\WII_Whale\\HP_raw_audio\\clipped\\filtered\\2s_clip\\specs\\\n"
     ]
    }
   ],
   "source": [
    "hp_csv_clip_wd= 'F:\\\\WII_Whale\\\\HP_raw_audio\\\\clipped\\\\'\n",
    "\n",
    "preprocess.audio_process(td=hp_csv_clip_wd,sf=5000)\n",
    "preprocess.few_second_clips(td=hp_csv_clip_wd+'filtered\\\\', clip=2)\n",
    "preprocess.spec_process(td=hp_csv_clip_wd+'filtered\\\\2s_clip\\\\', mid=70)\n",
    "utils.filename_to_csv(td=hp_csv_clip_wd+'filtered\\\\2s_clip\\\\specs\\\\', format='.png')"
   ]
  },
  {
   "cell_type": "code",
   "execution_count": null,
   "metadata": {},
   "outputs": [
    {
     "name": "stdout",
     "output_type": "stream",
     "text": [
      "Created specs for audio in F:\\WII_Whale\\HP_raw_audio\\clipped\\yes_specs_from_snpn\\filtered\\2s_clip\\\n",
      "Filename csv created for F:\\WII_Whale\\HP_raw_audio\\clipped\\yes_specs_from_snpn\\filtered\\2s_clip\\specs\\\n"
     ]
    }
   ],
   "source": [
    "hp_csv_clip_noise_yes_wd = 'F:\\\\WII_Whale\\\\HP_raw_audio\\\\clipped\\\\yes_specs_from_snpn\\\\'\n",
    "\n",
    "preprocess.audio_process(td=hp_csv_clip_noise_yes_wd,sf=5000)\n",
    "preprocess.few_second_clips(td=hp_csv_clip_noise_yes_wd+'filtered\\\\', clip=2)\n",
    "preprocess.spec_process(td=hp_csv_clip_noise_yes_wd+'filtered\\\\2s_clip\\\\', mid=70)\n",
    "utils.filename_to_csv(td=hp_csv_clip_noise_yes_wd+'filtered\\\\2s_clip\\\\specs\\\\', format='.png')\n",
    "#hp_csv_clip_pn_wd = 'F:\\\\WII_Whale\\\\HP_raw_audio\\\\clipped\\\\pre_noise\\\\'\n",
    "#hp_csv_clip_sn_wd = 'F:\\\\WII_Whale\\\\HP_raw_audio\\\\clipped\\\\suf_noise\\\\'\n"
   ]
  },
  {
   "cell_type": "markdown",
   "metadata": {},
   "source": [
    "Move specs to folder based on label"
   ]
  },
  {
   "cell_type": "code",
   "execution_count": 5,
   "metadata": {},
   "outputs": [
    {
     "name": "stdout",
     "output_type": "stream",
     "text": [
      "Folder created for label Yes\n",
      "Folder created for label No\n",
      "Folder created for label Unknown\n",
      ".png files moved from F:\\WII_Whale\\NOAA\\filtered\\2s_clip\\specs\\ to F:\\WII_Whale\\NOAA\\filtered\\2s_clip\\specs\\\n"
     ]
    }
   ],
   "source": [
    "# Move specs in NOAA\n",
    "utils.move_to_label(source=noaa_wd+'filtered\\\\2s_clip\\\\specs\\\\',\n",
    "                    target=noaa_wd+'filtered\\\\2s_clip\\\\specs\\\\',\n",
    "                    format='.png',\n",
    "                    df='F:\\\\WII_Whale\\\\annotation_csvs\\\\noaa_hw.csv')"
   ]
  },
  {
   "cell_type": "code",
   "execution_count": 11,
   "metadata": {},
   "outputs": [
    {
     "name": "stdout",
     "output_type": "stream",
     "text": [
      "Folder created for label No\n",
      "Folder created for label Undone\n",
      ".png files moved from F:\\WII_Whale\\HP6\\0093_30min_clip_annotated_noise\\filtered\\2s_clip\\specs\\ to F:\\WII_Whale\\HP6\\0093_30min_clip_annotated_noise\\filtered\\2s_clip\\specs\\\n"
     ]
    }
   ],
   "source": [
    "# Move specs in 0093\n",
    "hp_0093_wd = 'F:\\\\WII_Whale\\\\HP6\\\\0093_30min_clip_annotated_noise\\\\'\n",
    "utils.move_to_label(source=hp_0093_wd+'filtered\\\\2s_clip\\\\specs\\\\',\n",
    "                    target=hp_0093_wd+'filtered\\\\2s_clip\\\\specs\\\\',\n",
    "                    format= '.png',\n",
    "                    df= 'F:\\\\WII_Whale\\\\annotation_csvs\\\\0093_first10min.csv')"
   ]
  },
  {
   "cell_type": "code",
   "execution_count": null,
   "metadata": {},
   "outputs": [
    {
     "name": "stdout",
     "output_type": "stream",
     "text": [
      "Folder created for label Yes\n",
      "Folder created for label No\n",
      ".png files moved from F:\\WII_Whale\\HP_raw_audio\\clipped\\yes_specs_from_snpn\\filtered\\2s_clip\\specs\\ to F:\\WII_Whale\\HP_raw_audio\\clipped\\yes_specs_from_snpn\\filtered\\2s_clip\\specs\\\n"
     ]
    }
   ],
   "source": [
    "\n",
    "\n",
    "# Move specs in hp_raw_audio_clipped\n",
    "utils.move_to_label(source=hp_csv_clip_wd+'filtered\\\\2s_clip\\\\specs\\\\',\n",
    "                    target=hp_csv_clip_wd+'filtered\\\\2s_clip\\\\specs\\\\',\n",
    "                    format='.png',\n",
    "                    df='F:\\\\WII_Whale\\\\annotation_csvs\\\\csv_clipped_hp6.csv')\n",
    "\n",
    "# Move specs in yes_specs_from_snpn\n",
    "utils.move_to_label(source= hp_csv_clip_noise_yes_wd+'filtered\\\\2s_clip\\\\specs\\\\',\n",
    "                    target=hp_csv_clip_noise_yes_wd+'filtered\\\\2s_clip\\\\specs\\\\',\n",
    "                    format='.png',\n",
    "                    df='F:\\\\WII_Whale\\\\annotation_csvs\\\\csv_clipped_hp6.csv')\n"
   ]
  }
 ],
 "metadata": {
  "kernelspec": {
   "display_name": "Python 3",
   "language": "python",
   "name": "python3"
  },
  "language_info": {
   "codemirror_mode": {
    "name": "ipython",
    "version": 3
   },
   "file_extension": ".py",
   "mimetype": "text/x-python",
   "name": "python",
   "nbconvert_exporter": "python",
   "pygments_lexer": "ipython3",
   "version": "3.12.3"
  }
 },
 "nbformat": 4,
 "nbformat_minor": 2
}
